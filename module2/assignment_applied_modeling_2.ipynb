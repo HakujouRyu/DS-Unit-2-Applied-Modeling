{
 "cells": [
  {
   "cell_type": "markdown",
   "metadata": {
    "colab_type": "text",
    "id": "nCc3XZEyG3XV"
   },
   "source": [
    "Lambda School Data Science\n",
    "\n",
    "*Unit 2, Sprint 3, Module 2*\n",
    "\n",
    "---\n",
    "\n",
    "\n",
    "# Permutation & Boosting\n",
    "\n",
    "You will use your portfolio project dataset for all assignments this sprint.\n",
    "\n",
    "## Assignment\n",
    "\n",
    "Complete these tasks for your project, and document your work.\n",
    "\n",
    "- [ ] If you haven't completed assignment #1, please do so first.\n",
    "- [ ] Continue to clean and explore your data. Make exploratory visualizations.\n",
    "- [ ] Fit a model. Does it beat your baseline? \n",
    "- [ ] Try xgboost.\n",
    "- [ ] Get your model's permutation importances.\n",
    "\n",
    "You should try to complete an initial model today, because the rest of the week, we're making model interpretation visualizations.\n",
    "\n",
    "But, if you aren't ready to try xgboost and permutation importances with your dataset today, that's okay. You can practice with another dataset instead. You may choose any dataset you've worked with previously.\n",
    "\n",
    "The data subdirectory includes the Titanic dataset for classification and the NYC apartments dataset for regression. You may want to choose one of these datasets, because example solutions will be available for each.\n",
    "\n",
    "\n",
    "## Reading\n",
    "\n",
    "Top recommendations in _**bold italic:**_\n",
    "\n",
    "#### Permutation Importances\n",
    "- _**[Kaggle / Dan Becker: Machine Learning Explainability](https://www.kaggle.com/dansbecker/permutation-importance)**_\n",
    "- [Christoph Molnar: Interpretable Machine Learning](https://christophm.github.io/interpretable-ml-book/feature-importance.html)\n",
    "\n",
    "#### (Default) Feature Importances\n",
    "  - [Ando Saabas: Selecting good features, Part 3, Random Forests](https://blog.datadive.net/selecting-good-features-part-iii-random-forests/)\n",
    "  - [Terence Parr, et al: Beware Default Random Forest Importances](https://explained.ai/rf-importance/index.html)\n",
    "\n",
    "#### Gradient Boosting\n",
    "  - [A Gentle Introduction to the Gradient Boosting Algorithm for Machine Learning](https://machinelearningmastery.com/gentle-introduction-gradient-boosting-algorithm-machine-learning/)\n",
    "  - _**[A Kaggle Master Explains Gradient Boosting](http://blog.kaggle.com/2017/01/23/a-kaggle-master-explains-gradient-boosting/)**_\n",
    "  - [_An Introduction to Statistical Learning_](http://www-bcf.usc.edu/~gareth/ISL/ISLR%20Seventh%20Printing.pdf) Chapter 8\n",
    "  - [Gradient Boosting Explained](http://arogozhnikov.github.io/2016/06/24/gradient_boosting_explained.html)\n",
    "  - _**[Boosting](https://www.youtube.com/watch?v=GM3CDQfQ4sw) (2.5 minute video)**_"
   ]
  },
  {
   "cell_type": "code",
   "execution_count": 1,
   "metadata": {},
   "outputs": [],
   "source": [
    "import numpy as np \n",
    "import pandas as pd \n",
    "import os \n",
    "import seaborn as sns\n",
    "from sklearn.metrics import accuracy_score\n",
    "from sklearn.model_selection import train_test_split\n",
    "from sklearn.ensemble import RandomForestClassifier\n",
    "from sklearn.tree import DecisionTreeClassifier\n",
    "from sklearn.pipeline import make_pipeline\n",
    "import category_encoders as ce\n",
    "from sklearn.impute import SimpleImputer\n",
    "import eli5\n",
    "from eli5.sklearn import PermutationImportance\n",
    "%matplotlib inline\n",
    "pd.set_option('display.max_rows', 500)\n",
    "pd.set_option('display.max_columns', 500)\n",
    "pd.set_option('display.width', 1000)"
   ]
  },
  {
   "cell_type": "code",
   "execution_count": 2,
   "metadata": {},
   "outputs": [
    {
     "name": "stdout",
     "output_type": "stream",
     "text": [
      "C:\\Users\\Hakuj\\Documents\\DataSets\\Kickstarter\n"
     ]
    }
   ],
   "source": [
    "cd C:\\Users\\Hakuj\\Documents\\DataSets\\Kickstarter"
   ]
  },
  {
   "cell_type": "markdown",
   "metadata": {},
   "source": [
    "## Getting csv"
   ]
  },
  {
   "cell_type": "code",
   "execution_count": 3,
   "metadata": {},
   "outputs": [],
   "source": [
    "def get_a_year(year):\n",
    "    df = pd.DataFrame(\n",
    "            columns=['backers_count', 'blurb', 'category', 'converted_pledged_amount',\n",
    "       'country', 'created_at', 'creator', 'currency', 'currency_symbol',\n",
    "       'currency_trailing_code', 'current_currency', 'deadline',\n",
    "       'disable_communication', 'fx_rate', 'goal', 'id', 'is_starrable',\n",
    "       'launched_at', 'name', 'photo', 'pledged', 'profile', 'slug',\n",
    "       'source_url', 'spotlight', 'staff_pick', 'state', 'state_changed_at',\n",
    "       'static_usd_rate', 'urls', 'usd_pledged', 'usd_type', 'location',\n",
    "       'friends', 'is_backing', 'is_starred', 'permissions']\n",
    "    )\n",
    "    folders = os.listdir(f'Data\\\\{year}') #Get the monthly folders inside the year\n",
    "    for folder in folders[:1]:\n",
    "        files = os.listdir(f'Data\\\\{year}\\\\{folder}')  #Get the filenames inside monthly folders\n",
    "        monthly = pd.concat(\n",
    "            [pd.read_csv(\n",
    "                f'Data\\\\{year}\\\\{folder}\\\\{file}') for file in files[:1]]\n",
    "        ) #Reads in all the csv files in a given month\n",
    "        df = df.append(monthly)\n",
    "    return df"
   ]
  },
  {
   "cell_type": "code",
   "execution_count": 4,
   "metadata": {},
   "outputs": [],
   "source": [
    "df = get_a_year(2018)"
   ]
  },
  {
   "cell_type": "code",
   "execution_count": 5,
   "metadata": {},
   "outputs": [
    {
     "data": {
      "text/plain": [
       "(4076, 37)"
      ]
     },
     "execution_count": 5,
     "metadata": {},
     "output_type": "execute_result"
    }
   ],
   "source": [
    "df.shape"
   ]
  },
  {
   "cell_type": "code",
   "execution_count": 6,
   "metadata": {},
   "outputs": [
    {
     "data": {
      "text/html": [
       "<div>\n",
       "<style scoped>\n",
       "    .dataframe tbody tr th:only-of-type {\n",
       "        vertical-align: middle;\n",
       "    }\n",
       "\n",
       "    .dataframe tbody tr th {\n",
       "        vertical-align: top;\n",
       "    }\n",
       "\n",
       "    .dataframe thead th {\n",
       "        text-align: right;\n",
       "    }\n",
       "</style>\n",
       "<table border=\"1\" class=\"dataframe\">\n",
       "  <thead>\n",
       "    <tr style=\"text-align: right;\">\n",
       "      <th></th>\n",
       "      <th>fx_rate</th>\n",
       "      <th>goal</th>\n",
       "      <th>pledged</th>\n",
       "      <th>static_usd_rate</th>\n",
       "      <th>usd_pledged</th>\n",
       "      <th>friends</th>\n",
       "      <th>is_backing</th>\n",
       "      <th>is_starred</th>\n",
       "      <th>permissions</th>\n",
       "    </tr>\n",
       "  </thead>\n",
       "  <tbody>\n",
       "    <tr>\n",
       "      <th>count</th>\n",
       "      <td>4076.000000</td>\n",
       "      <td>4.076000e+03</td>\n",
       "      <td>4076.000000</td>\n",
       "      <td>4076.000000</td>\n",
       "      <td>4076.000000</td>\n",
       "      <td>0.0</td>\n",
       "      <td>0.0</td>\n",
       "      <td>0.0</td>\n",
       "      <td>0.0</td>\n",
       "    </tr>\n",
       "    <tr>\n",
       "      <th>mean</th>\n",
       "      <td>1.012103</td>\n",
       "      <td>3.083603e+04</td>\n",
       "      <td>3746.904271</td>\n",
       "      <td>1.022456</td>\n",
       "      <td>3355.188621</td>\n",
       "      <td>NaN</td>\n",
       "      <td>NaN</td>\n",
       "      <td>NaN</td>\n",
       "      <td>NaN</td>\n",
       "    </tr>\n",
       "    <tr>\n",
       "      <th>std</th>\n",
       "      <td>0.144858</td>\n",
       "      <td>1.566747e+06</td>\n",
       "      <td>13626.882355</td>\n",
       "      <td>0.176120</td>\n",
       "      <td>8203.541462</td>\n",
       "      <td>NaN</td>\n",
       "      <td>NaN</td>\n",
       "      <td>NaN</td>\n",
       "      <td>NaN</td>\n",
       "    </tr>\n",
       "    <tr>\n",
       "      <th>min</th>\n",
       "      <td>0.052117</td>\n",
       "      <td>1.000000e+00</td>\n",
       "      <td>0.000000</td>\n",
       "      <td>0.048231</td>\n",
       "      <td>0.000000</td>\n",
       "      <td>NaN</td>\n",
       "      <td>NaN</td>\n",
       "      <td>NaN</td>\n",
       "      <td>NaN</td>\n",
       "    </tr>\n",
       "    <tr>\n",
       "      <th>25%</th>\n",
       "      <td>1.000000</td>\n",
       "      <td>6.761250e+02</td>\n",
       "      <td>110.000000</td>\n",
       "      <td>1.000000</td>\n",
       "      <td>120.000000</td>\n",
       "      <td>NaN</td>\n",
       "      <td>NaN</td>\n",
       "      <td>NaN</td>\n",
       "      <td>NaN</td>\n",
       "    </tr>\n",
       "    <tr>\n",
       "      <th>50%</th>\n",
       "      <td>1.000000</td>\n",
       "      <td>2.000000e+03</td>\n",
       "      <td>1065.890000</td>\n",
       "      <td>1.000000</td>\n",
       "      <td>1071.500000</td>\n",
       "      <td>NaN</td>\n",
       "      <td>NaN</td>\n",
       "      <td>NaN</td>\n",
       "      <td>NaN</td>\n",
       "    </tr>\n",
       "    <tr>\n",
       "      <th>75%</th>\n",
       "      <td>1.000000</td>\n",
       "      <td>5.000000e+03</td>\n",
       "      <td>3451.250000</td>\n",
       "      <td>1.000000</td>\n",
       "      <td>3462.934884</td>\n",
       "      <td>NaN</td>\n",
       "      <td>NaN</td>\n",
       "      <td>NaN</td>\n",
       "      <td>NaN</td>\n",
       "    </tr>\n",
       "    <tr>\n",
       "      <th>max</th>\n",
       "      <td>1.354969</td>\n",
       "      <td>1.000000e+08</td>\n",
       "      <td>485520.000000</td>\n",
       "      <td>1.714466</td>\n",
       "      <td>167832.010000</td>\n",
       "      <td>NaN</td>\n",
       "      <td>NaN</td>\n",
       "      <td>NaN</td>\n",
       "      <td>NaN</td>\n",
       "    </tr>\n",
       "  </tbody>\n",
       "</table>\n",
       "</div>"
      ],
      "text/plain": [
       "           fx_rate          goal        pledged  static_usd_rate    usd_pledged  friends  is_backing  is_starred  permissions\n",
       "count  4076.000000  4.076000e+03    4076.000000      4076.000000    4076.000000      0.0         0.0         0.0          0.0\n",
       "mean      1.012103  3.083603e+04    3746.904271         1.022456    3355.188621      NaN         NaN         NaN          NaN\n",
       "std       0.144858  1.566747e+06   13626.882355         0.176120    8203.541462      NaN         NaN         NaN          NaN\n",
       "min       0.052117  1.000000e+00       0.000000         0.048231       0.000000      NaN         NaN         NaN          NaN\n",
       "25%       1.000000  6.761250e+02     110.000000         1.000000     120.000000      NaN         NaN         NaN          NaN\n",
       "50%       1.000000  2.000000e+03    1065.890000         1.000000    1071.500000      NaN         NaN         NaN          NaN\n",
       "75%       1.000000  5.000000e+03    3451.250000         1.000000    3462.934884      NaN         NaN         NaN          NaN\n",
       "max       1.354969  1.000000e+08  485520.000000         1.714466  167832.010000      NaN         NaN         NaN          NaN"
      ]
     },
     "execution_count": 6,
     "metadata": {},
     "output_type": "execute_result"
    }
   ],
   "source": [
    "df.describe()"
   ]
  },
  {
   "cell_type": "code",
   "execution_count": 7,
   "metadata": {},
   "outputs": [
    {
     "data": {
      "text/html": [
       "<div>\n",
       "<style scoped>\n",
       "    .dataframe tbody tr th:only-of-type {\n",
       "        vertical-align: middle;\n",
       "    }\n",
       "\n",
       "    .dataframe tbody tr th {\n",
       "        vertical-align: top;\n",
       "    }\n",
       "\n",
       "    .dataframe thead th {\n",
       "        text-align: right;\n",
       "    }\n",
       "</style>\n",
       "<table border=\"1\" class=\"dataframe\">\n",
       "  <thead>\n",
       "    <tr style=\"text-align: right;\">\n",
       "      <th></th>\n",
       "      <th>backers_count</th>\n",
       "      <th>blurb</th>\n",
       "      <th>category</th>\n",
       "      <th>converted_pledged_amount</th>\n",
       "      <th>country</th>\n",
       "      <th>created_at</th>\n",
       "      <th>creator</th>\n",
       "      <th>currency</th>\n",
       "      <th>currency_symbol</th>\n",
       "      <th>currency_trailing_code</th>\n",
       "      <th>current_currency</th>\n",
       "      <th>deadline</th>\n",
       "      <th>disable_communication</th>\n",
       "      <th>fx_rate</th>\n",
       "      <th>goal</th>\n",
       "      <th>id</th>\n",
       "      <th>is_starrable</th>\n",
       "      <th>launched_at</th>\n",
       "      <th>name</th>\n",
       "      <th>photo</th>\n",
       "      <th>pledged</th>\n",
       "      <th>profile</th>\n",
       "      <th>slug</th>\n",
       "      <th>source_url</th>\n",
       "      <th>spotlight</th>\n",
       "      <th>staff_pick</th>\n",
       "      <th>state</th>\n",
       "      <th>state_changed_at</th>\n",
       "      <th>static_usd_rate</th>\n",
       "      <th>urls</th>\n",
       "      <th>usd_pledged</th>\n",
       "      <th>usd_type</th>\n",
       "      <th>location</th>\n",
       "      <th>friends</th>\n",
       "      <th>is_backing</th>\n",
       "      <th>is_starred</th>\n",
       "      <th>permissions</th>\n",
       "    </tr>\n",
       "  </thead>\n",
       "  <tbody>\n",
       "    <tr>\n",
       "      <th>0</th>\n",
       "      <td>1</td>\n",
       "      <td>Monsters, Fantasy, Illusion, Delusion, and a h...</td>\n",
       "      <td>{\"urls\":{\"web\":{\"discover\":\"http://www.kicksta...</td>\n",
       "      <td>20</td>\n",
       "      <td>US</td>\n",
       "      <td>1332493397</td>\n",
       "      <td>{\"urls\":{\"web\":{\"user\":\"https://www.kickstarte...</td>\n",
       "      <td>USD</td>\n",
       "      <td>$</td>\n",
       "      <td>True</td>\n",
       "      <td>USD</td>\n",
       "      <td>1336447572</td>\n",
       "      <td>False</td>\n",
       "      <td>1.0</td>\n",
       "      <td>5400.0</td>\n",
       "      <td>2016865793</td>\n",
       "      <td>False</td>\n",
       "      <td>1332818772</td>\n",
       "      <td>Support the Strange and Unusual, from fantasy ...</td>\n",
       "      <td>{\"small\":\"https://ksr-ugc.imgix.net/assets/011...</td>\n",
       "      <td>20.0</td>\n",
       "      <td>{\"background_image_opacity\":0.8,\"should_show_f...</td>\n",
       "      <td>represent-the-strange-and-unusual</td>\n",
       "      <td>https://www.kickstarter.com/discover/categorie...</td>\n",
       "      <td>False</td>\n",
       "      <td>False</td>\n",
       "      <td>failed</td>\n",
       "      <td>1336447572</td>\n",
       "      <td>1.0</td>\n",
       "      <td>{\"web\":{\"project\":\"https://www.kickstarter.com...</td>\n",
       "      <td>20.0</td>\n",
       "      <td>domestic</td>\n",
       "      <td>{\"country\":\"US\",\"urls\":{\"web\":{\"discover\":\"htt...</td>\n",
       "      <td>NaN</td>\n",
       "      <td>NaN</td>\n",
       "      <td>NaN</td>\n",
       "      <td>NaN</td>\n",
       "    </tr>\n",
       "    <tr>\n",
       "      <th>1</th>\n",
       "      <td>37</td>\n",
       "      <td>Nano Art will make and market customized piece...</td>\n",
       "      <td>{\"urls\":{\"web\":{\"discover\":\"http://www.kicksta...</td>\n",
       "      <td>1974</td>\n",
       "      <td>US</td>\n",
       "      <td>1332823105</td>\n",
       "      <td>{\"urls\":{\"web\":{\"user\":\"https://www.kickstarte...</td>\n",
       "      <td>USD</td>\n",
       "      <td>$</td>\n",
       "      <td>True</td>\n",
       "      <td>USD</td>\n",
       "      <td>1337287105</td>\n",
       "      <td>False</td>\n",
       "      <td>1.0</td>\n",
       "      <td>5000.0</td>\n",
       "      <td>120596924</td>\n",
       "      <td>False</td>\n",
       "      <td>1333399105</td>\n",
       "      <td>Nano Art: Reloaded</td>\n",
       "      <td>{\"small\":\"https://ksr-ugc.imgix.net/assets/011...</td>\n",
       "      <td>1974.0</td>\n",
       "      <td>{\"background_image_opacity\":0.8,\"should_show_f...</td>\n",
       "      <td>nano-art-reloaded</td>\n",
       "      <td>https://www.kickstarter.com/discover/categorie...</td>\n",
       "      <td>False</td>\n",
       "      <td>True</td>\n",
       "      <td>failed</td>\n",
       "      <td>1337287105</td>\n",
       "      <td>1.0</td>\n",
       "      <td>{\"web\":{\"project\":\"https://www.kickstarter.com...</td>\n",
       "      <td>1974.0</td>\n",
       "      <td>domestic</td>\n",
       "      <td>{\"country\":\"US\",\"urls\":{\"web\":{\"discover\":\"htt...</td>\n",
       "      <td>NaN</td>\n",
       "      <td>NaN</td>\n",
       "      <td>NaN</td>\n",
       "      <td>NaN</td>\n",
       "    </tr>\n",
       "    <tr>\n",
       "      <th>2</th>\n",
       "      <td>81</td>\n",
       "      <td>Video and audio coverage of the MUTEK festival...</td>\n",
       "      <td>{\"urls\":{\"web\":{\"discover\":\"http://www.kicksta...</td>\n",
       "      <td>4845</td>\n",
       "      <td>US</td>\n",
       "      <td>1331241234</td>\n",
       "      <td>{\"urls\":{\"web\":{\"user\":\"https://www.kickstarte...</td>\n",
       "      <td>USD</td>\n",
       "      <td>$</td>\n",
       "      <td>True</td>\n",
       "      <td>USD</td>\n",
       "      <td>1337227140</td>\n",
       "      <td>False</td>\n",
       "      <td>1.0</td>\n",
       "      <td>20000.0</td>\n",
       "      <td>694989709</td>\n",
       "      <td>False</td>\n",
       "      <td>1334604529</td>\n",
       "      <td>MUTEK 2012: the VIRTUAL FESTIVAL STUDIO project</td>\n",
       "      <td>{\"small\":\"https://ksr-ugc.imgix.net/assets/011...</td>\n",
       "      <td>4845.0</td>\n",
       "      <td>{\"background_image_opacity\":0.8,\"should_show_f...</td>\n",
       "      <td>mutek-festival-virtual-festival-studio</td>\n",
       "      <td>https://www.kickstarter.com/discover/categorie...</td>\n",
       "      <td>False</td>\n",
       "      <td>True</td>\n",
       "      <td>failed</td>\n",
       "      <td>1337227140</td>\n",
       "      <td>1.0</td>\n",
       "      <td>{\"web\":{\"project\":\"https://www.kickstarter.com...</td>\n",
       "      <td>4845.0</td>\n",
       "      <td>domestic</td>\n",
       "      <td>{\"country\":\"CA\",\"urls\":{\"web\":{\"discover\":\"htt...</td>\n",
       "      <td>NaN</td>\n",
       "      <td>NaN</td>\n",
       "      <td>NaN</td>\n",
       "      <td>NaN</td>\n",
       "    </tr>\n",
       "    <tr>\n",
       "      <th>3</th>\n",
       "      <td>95</td>\n",
       "      <td>Finally, A Storyboard App Done Right!</td>\n",
       "      <td>{\"urls\":{\"web\":{\"discover\":\"http://www.kicksta...</td>\n",
       "      <td>2948</td>\n",
       "      <td>US</td>\n",
       "      <td>1332350493</td>\n",
       "      <td>{\"urls\":{\"web\":{\"user\":\"https://www.kickstarte...</td>\n",
       "      <td>USD</td>\n",
       "      <td>$</td>\n",
       "      <td>True</td>\n",
       "      <td>USD</td>\n",
       "      <td>1338448438</td>\n",
       "      <td>False</td>\n",
       "      <td>1.0</td>\n",
       "      <td>20000.0</td>\n",
       "      <td>1254591807</td>\n",
       "      <td>False</td>\n",
       "      <td>1335424438</td>\n",
       "      <td>SketchPad Pro: A Filmmaker's Storyboard for th...</td>\n",
       "      <td>{\"small\":\"https://ksr-ugc.imgix.net/assets/011...</td>\n",
       "      <td>2948.0</td>\n",
       "      <td>{\"background_image_opacity\":0.8,\"should_show_f...</td>\n",
       "      <td>sketchpad-pro-a-filmmakers-storyboard-for-the-...</td>\n",
       "      <td>https://www.kickstarter.com/discover/categorie...</td>\n",
       "      <td>False</td>\n",
       "      <td>False</td>\n",
       "      <td>failed</td>\n",
       "      <td>1338448438</td>\n",
       "      <td>1.0</td>\n",
       "      <td>{\"web\":{\"project\":\"https://www.kickstarter.com...</td>\n",
       "      <td>2948.0</td>\n",
       "      <td>domestic</td>\n",
       "      <td>{\"country\":\"US\",\"urls\":{\"web\":{\"discover\":\"htt...</td>\n",
       "      <td>NaN</td>\n",
       "      <td>NaN</td>\n",
       "      <td>NaN</td>\n",
       "      <td>NaN</td>\n",
       "    </tr>\n",
       "    <tr>\n",
       "      <th>4</th>\n",
       "      <td>10</td>\n",
       "      <td>If you like books and bookmarks, stick these s...</td>\n",
       "      <td>{\"urls\":{\"web\":{\"discover\":\"http://www.kicksta...</td>\n",
       "      <td>522</td>\n",
       "      <td>US</td>\n",
       "      <td>1333768943</td>\n",
       "      <td>{\"urls\":{\"web\":{\"user\":\"https://www.kickstarte...</td>\n",
       "      <td>USD</td>\n",
       "      <td>$</td>\n",
       "      <td>True</td>\n",
       "      <td>USD</td>\n",
       "      <td>1338609540</td>\n",
       "      <td>False</td>\n",
       "      <td>1.0</td>\n",
       "      <td>6000.0</td>\n",
       "      <td>1162595888</td>\n",
       "      <td>False</td>\n",
       "      <td>1335499325</td>\n",
       "      <td>APPLES &amp; LEMONS REVIEWS</td>\n",
       "      <td>{\"small\":\"https://ksr-ugc.imgix.net/assets/011...</td>\n",
       "      <td>522.0</td>\n",
       "      <td>{\"background_image_opacity\":0.8,\"should_show_f...</td>\n",
       "      <td>apples-and-lemons-reviews</td>\n",
       "      <td>https://www.kickstarter.com/discover/categorie...</td>\n",
       "      <td>False</td>\n",
       "      <td>False</td>\n",
       "      <td>failed</td>\n",
       "      <td>1338609542</td>\n",
       "      <td>1.0</td>\n",
       "      <td>{\"web\":{\"project\":\"https://www.kickstarter.com...</td>\n",
       "      <td>522.0</td>\n",
       "      <td>domestic</td>\n",
       "      <td>{\"country\":\"US\",\"urls\":{\"web\":{\"discover\":\"htt...</td>\n",
       "      <td>NaN</td>\n",
       "      <td>NaN</td>\n",
       "      <td>NaN</td>\n",
       "      <td>NaN</td>\n",
       "    </tr>\n",
       "  </tbody>\n",
       "</table>\n",
       "</div>"
      ],
      "text/plain": [
       "  backers_count                                              blurb                                           category converted_pledged_amount country  created_at                                            creator currency currency_symbol currency_trailing_code current_currency    deadline disable_communication  fx_rate     goal          id is_starrable launched_at                                               name                                              photo  pledged                                            profile                                               slug                                         source_url spotlight staff_pick   state state_changed_at  static_usd_rate                                               urls  usd_pledged  usd_type                                           location  friends  is_backing  is_starred  permissions\n",
       "0             1  Monsters, Fantasy, Illusion, Delusion, and a h...  {\"urls\":{\"web\":{\"discover\":\"http://www.kicksta...                       20      US  1332493397  {\"urls\":{\"web\":{\"user\":\"https://www.kickstarte...      USD               $                   True              USD  1336447572                 False      1.0   5400.0  2016865793        False  1332818772  Support the Strange and Unusual, from fantasy ...  {\"small\":\"https://ksr-ugc.imgix.net/assets/011...     20.0  {\"background_image_opacity\":0.8,\"should_show_f...                  represent-the-strange-and-unusual  https://www.kickstarter.com/discover/categorie...     False      False  failed       1336447572              1.0  {\"web\":{\"project\":\"https://www.kickstarter.com...         20.0  domestic  {\"country\":\"US\",\"urls\":{\"web\":{\"discover\":\"htt...      NaN         NaN         NaN          NaN\n",
       "1            37  Nano Art will make and market customized piece...  {\"urls\":{\"web\":{\"discover\":\"http://www.kicksta...                     1974      US  1332823105  {\"urls\":{\"web\":{\"user\":\"https://www.kickstarte...      USD               $                   True              USD  1337287105                 False      1.0   5000.0   120596924        False  1333399105                                 Nano Art: Reloaded  {\"small\":\"https://ksr-ugc.imgix.net/assets/011...   1974.0  {\"background_image_opacity\":0.8,\"should_show_f...                                  nano-art-reloaded  https://www.kickstarter.com/discover/categorie...     False       True  failed       1337287105              1.0  {\"web\":{\"project\":\"https://www.kickstarter.com...       1974.0  domestic  {\"country\":\"US\",\"urls\":{\"web\":{\"discover\":\"htt...      NaN         NaN         NaN          NaN\n",
       "2            81  Video and audio coverage of the MUTEK festival...  {\"urls\":{\"web\":{\"discover\":\"http://www.kicksta...                     4845      US  1331241234  {\"urls\":{\"web\":{\"user\":\"https://www.kickstarte...      USD               $                   True              USD  1337227140                 False      1.0  20000.0   694989709        False  1334604529    MUTEK 2012: the VIRTUAL FESTIVAL STUDIO project  {\"small\":\"https://ksr-ugc.imgix.net/assets/011...   4845.0  {\"background_image_opacity\":0.8,\"should_show_f...             mutek-festival-virtual-festival-studio  https://www.kickstarter.com/discover/categorie...     False       True  failed       1337227140              1.0  {\"web\":{\"project\":\"https://www.kickstarter.com...       4845.0  domestic  {\"country\":\"CA\",\"urls\":{\"web\":{\"discover\":\"htt...      NaN         NaN         NaN          NaN\n",
       "3            95              Finally, A Storyboard App Done Right!  {\"urls\":{\"web\":{\"discover\":\"http://www.kicksta...                     2948      US  1332350493  {\"urls\":{\"web\":{\"user\":\"https://www.kickstarte...      USD               $                   True              USD  1338448438                 False      1.0  20000.0  1254591807        False  1335424438  SketchPad Pro: A Filmmaker's Storyboard for th...  {\"small\":\"https://ksr-ugc.imgix.net/assets/011...   2948.0  {\"background_image_opacity\":0.8,\"should_show_f...  sketchpad-pro-a-filmmakers-storyboard-for-the-...  https://www.kickstarter.com/discover/categorie...     False      False  failed       1338448438              1.0  {\"web\":{\"project\":\"https://www.kickstarter.com...       2948.0  domestic  {\"country\":\"US\",\"urls\":{\"web\":{\"discover\":\"htt...      NaN         NaN         NaN          NaN\n",
       "4            10  If you like books and bookmarks, stick these s...  {\"urls\":{\"web\":{\"discover\":\"http://www.kicksta...                      522      US  1333768943  {\"urls\":{\"web\":{\"user\":\"https://www.kickstarte...      USD               $                   True              USD  1338609540                 False      1.0   6000.0  1162595888        False  1335499325                            APPLES & LEMONS REVIEWS  {\"small\":\"https://ksr-ugc.imgix.net/assets/011...    522.0  {\"background_image_opacity\":0.8,\"should_show_f...                          apples-and-lemons-reviews  https://www.kickstarter.com/discover/categorie...     False      False  failed       1338609542              1.0  {\"web\":{\"project\":\"https://www.kickstarter.com...        522.0  domestic  {\"country\":\"US\",\"urls\":{\"web\":{\"discover\":\"htt...      NaN         NaN         NaN          NaN"
      ]
     },
     "execution_count": 7,
     "metadata": {},
     "output_type": "execute_result"
    }
   ],
   "source": [
    "df.head()"
   ]
  },
  {
   "cell_type": "code",
   "execution_count": 8,
   "metadata": {},
   "outputs": [
    {
     "name": "stdout",
     "output_type": "stream",
     "text": [
      "<class 'pandas.core.frame.DataFrame'>\n",
      "Int64Index: 4076 entries, 0 to 4075\n",
      "Data columns (total 37 columns):\n",
      "backers_count               4076 non-null object\n",
      "blurb                       4075 non-null object\n",
      "category                    4076 non-null object\n",
      "converted_pledged_amount    4076 non-null object\n",
      "country                     4076 non-null object\n",
      "created_at                  4076 non-null object\n",
      "creator                     4076 non-null object\n",
      "currency                    4076 non-null object\n",
      "currency_symbol             4076 non-null object\n",
      "currency_trailing_code      4076 non-null object\n",
      "current_currency            4076 non-null object\n",
      "deadline                    4076 non-null object\n",
      "disable_communication       4076 non-null object\n",
      "fx_rate                     4076 non-null float64\n",
      "goal                        4076 non-null float64\n",
      "id                          4076 non-null object\n",
      "is_starrable                4076 non-null object\n",
      "launched_at                 4076 non-null object\n",
      "name                        4076 non-null object\n",
      "photo                       4076 non-null object\n",
      "pledged                     4076 non-null float64\n",
      "profile                     4076 non-null object\n",
      "slug                        4076 non-null object\n",
      "source_url                  4076 non-null object\n",
      "spotlight                   4076 non-null object\n",
      "staff_pick                  4076 non-null object\n",
      "state                       4076 non-null object\n",
      "state_changed_at            4076 non-null object\n",
      "static_usd_rate             4076 non-null float64\n",
      "urls                        4076 non-null object\n",
      "usd_pledged                 4076 non-null float64\n",
      "usd_type                    4076 non-null object\n",
      "location                    4070 non-null object\n",
      "friends                     0 non-null float64\n",
      "is_backing                  0 non-null float64\n",
      "is_starred                  0 non-null float64\n",
      "permissions                 0 non-null float64\n",
      "dtypes: float64(9), object(28)\n",
      "memory usage: 1.2+ MB\n"
     ]
    }
   ],
   "source": [
    "df.info()"
   ]
  },
  {
   "cell_type": "code",
   "execution_count": 9,
   "metadata": {},
   "outputs": [
    {
     "data": {
      "text/plain": [
       "backers_count                  0\n",
       "blurb                          1\n",
       "category                       0\n",
       "converted_pledged_amount       0\n",
       "country                        0\n",
       "created_at                     0\n",
       "creator                        0\n",
       "currency                       0\n",
       "currency_symbol                0\n",
       "currency_trailing_code         0\n",
       "current_currency               0\n",
       "deadline                       0\n",
       "disable_communication          0\n",
       "fx_rate                        0\n",
       "goal                           0\n",
       "id                             0\n",
       "is_starrable                   0\n",
       "launched_at                    0\n",
       "name                           0\n",
       "photo                          0\n",
       "pledged                        0\n",
       "profile                        0\n",
       "slug                           0\n",
       "source_url                     0\n",
       "spotlight                      0\n",
       "staff_pick                     0\n",
       "state                          0\n",
       "state_changed_at               0\n",
       "static_usd_rate                0\n",
       "urls                           0\n",
       "usd_pledged                    0\n",
       "usd_type                       0\n",
       "location                       6\n",
       "friends                     4076\n",
       "is_backing                  4076\n",
       "is_starred                  4076\n",
       "permissions                 4076\n",
       "dtype: int64"
      ]
     },
     "execution_count": 9,
     "metadata": {},
     "output_type": "execute_result"
    }
   ],
   "source": [
    "df.isna().sum()"
   ]
  },
  {
   "cell_type": "code",
   "execution_count": 10,
   "metadata": {},
   "outputs": [
    {
     "data": {
      "text/plain": [
       "successful    2597\n",
       "failed        1309\n",
       "canceled       158\n",
       "live            10\n",
       "suspended        2\n",
       "Name: state, dtype: int64"
      ]
     },
     "execution_count": 10,
     "metadata": {},
     "output_type": "execute_result"
    }
   ],
   "source": [
    "df['state'].value_counts()"
   ]
  },
  {
   "cell_type": "markdown",
   "metadata": {},
   "source": [
    "## Assignment 1 redo"
   ]
  },
  {
   "cell_type": "markdown",
   "metadata": {},
   "source": [
    "### Target selection and baseline\n",
    "- I will use funded as my target.\n",
    "  - I want to have a classification of 'Funded' 'Failed' and 'Funded Early'\n",
    "    - I may not be able to do the last one\n",
    "  - I would also like to present probability\n",
    "    - suggestions on how to improve would be a good stretch goal for me.\n",
    "- I will have to engineer it from 'state'\n",
    "- I can also see if it is funded ahead of time by using 'goal' and (usd)'pledged'"
   ]
  },
  {
   "cell_type": "code",
   "execution_count": 11,
   "metadata": {},
   "outputs": [],
   "source": [
    "base_preds = ['successful'] * len(df)"
   ]
  },
  {
   "cell_type": "code",
   "execution_count": 12,
   "metadata": {},
   "outputs": [
    {
     "data": {
      "text/plain": [
       "0.637144259077527"
      ]
     },
     "execution_count": 12,
     "metadata": {},
     "output_type": "execute_result"
    }
   ],
   "source": [
    "accuracy_score(base_preds, df['state'])"
   ]
  },
  {
   "cell_type": "markdown",
   "metadata": {},
   "source": [
    "### Feature selection\n",
    "- There will be repeats as some campaing run longer than the scrape periods, so I will have to mind that\n",
    "- I will have to be careful with time travel\n",
    "- There are some features that are mostly NaN\n",
    "- Pledged and usd_pledged are essentially the same.\n",
    "  - I may not even include these in my project as I want to see if you will be funded before you start"
   ]
  },
  {
   "cell_type": "markdown",
   "metadata": {},
   "source": [
    "## Assignment 2"
   ]
  },
  {
   "cell_type": "code",
   "execution_count": 13,
   "metadata": {},
   "outputs": [],
   "source": [
    "def wrangle(df):\n",
    "    #Time series data\n",
    "    df['created_at'] = pd.to_datetime(df['created_at'], format='%m%d%Y').astype(str)\n",
    "    df['deadline'] = pd.to_datetime(df['deadline'], format='%m%d%Y').astype(str)\n",
    "    df['launched_at'] = pd.to_datetime(df['launched_at'], format='%m%d%Y').astype(str)\n",
    "    df['state_changed_at'] = pd.to_datetime(df['state_changed_at'], format='%m%d%Y').astype(str)\n",
    "    return df"
   ]
  },
  {
   "cell_type": "code",
   "execution_count": 14,
   "metadata": {},
   "outputs": [],
   "source": [
    "X = df.drop(columns=['state','pledged', 'usd_pledged', 'state'])\n",
    "y = df['state']"
   ]
  },
  {
   "cell_type": "code",
   "execution_count": 15,
   "metadata": {},
   "outputs": [],
   "source": [
    "X_train, X_test,y_train, y_test = train_test_split(X, y, random_state=42)"
   ]
  },
  {
   "cell_type": "code",
   "execution_count": 16,
   "metadata": {},
   "outputs": [],
   "source": [
    "pipeline1 = make_pipeline(\n",
    "    SimpleImputer(strategy='most_frequent'), \n",
    "    ce.OrdinalEncoder(), \n",
    "    DecisionTreeClassifier(random_state=42, max_depth=3)\n",
    ")"
   ]
  },
  {
   "cell_type": "code",
   "execution_count": null,
   "metadata": {},
   "outputs": [],
   "source": [
    "pipeline1.fit(X_train, y_train)"
   ]
  },
  {
   "cell_type": "code",
   "execution_count": null,
   "metadata": {
    "scrolled": true
   },
   "outputs": [],
   "source": [
    "accuracy_score(pipeline1.predict(X_test), y_test)"
   ]
  },
  {
   "cell_type": "code",
   "execution_count": null,
   "metadata": {},
   "outputs": [],
   "source": [
    "transformer = make_pipeline(\n",
    "    SimpleImputer(strategy='most_frequent'), \n",
    "    ce.OrdinalEncoder()\n",
    ")"
   ]
  },
  {
   "cell_type": "code",
   "execution_count": null,
   "metadata": {},
   "outputs": [],
   "source": [
    "model = RandomForestClassifier(random_state=42, max_depth=3)"
   ]
  },
  {
   "cell_type": "code",
   "execution_count": null,
   "metadata": {},
   "outputs": [],
   "source": [
    "X_train_transformed = transformer.fit_transform(X_train)\n",
    "X_test_transformed = transformer.transform(X_test)"
   ]
  },
  {
   "cell_type": "code",
   "execution_count": null,
   "metadata": {},
   "outputs": [],
   "source": [
    "model.fit(X_train_transformed, y_train)"
   ]
  },
  {
   "cell_type": "code",
   "execution_count": null,
   "metadata": {},
   "outputs": [],
   "source": [
    "permuter = PermutationImportance(\n",
    "    model,\n",
    "    scoring='accuracy',\n",
    "    n_iter=3,\n",
    "    random_state=42\n",
    ")"
   ]
  },
  {
   "cell_type": "code",
   "execution_count": null,
   "metadata": {},
   "outputs": [],
   "source": [
    "permuter.fit(X_test_transformed, y_test)"
   ]
  },
  {
   "cell_type": "code",
   "execution_count": null,
   "metadata": {},
   "outputs": [],
   "source": [
    "features = X_test.columns.tolist()\n",
    "pd.Series(permuter.feature_importances_, features[:30])"
   ]
  },
  {
   "cell_type": "code",
   "execution_count": null,
   "metadata": {},
   "outputs": [],
   "source": [
    "eli5.show_weights(\n",
    "    permuter, \n",
    "    top=None,\n",
    "    feature_names=features[:30]\n",
    ")"
   ]
  },
  {
   "cell_type": "code",
   "execution_count": null,
   "metadata": {},
   "outputs": [],
   "source": []
  }
 ],
 "metadata": {
  "colab": {
   "collapsed_sections": [],
   "name": "assignment_applied_modeling_2.ipynb",
   "provenance": [],
   "version": "0.3.2"
  },
  "kernelspec": {
   "display_name": "Python 3",
   "language": "python",
   "name": "python3"
  },
  "language_info": {
   "codemirror_mode": {
    "name": "ipython",
    "version": 3
   },
   "file_extension": ".py",
   "mimetype": "text/x-python",
   "name": "python",
   "nbconvert_exporter": "python",
   "pygments_lexer": "ipython3",
   "version": "3.7.4"
  }
 },
 "nbformat": 4,
 "nbformat_minor": 1
}
